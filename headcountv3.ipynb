{
 "cells": [
  {
   "cell_type": "code",
   "execution_count": 1,
   "metadata": {},
   "outputs": [
    {
     "name": "stdout",
     "output_type": "stream",
     "text": [
      "Requirement already satisfied: opencv-python in /opt/homebrew/anaconda3/lib/python3.11/site-packages (4.10.0.84)\n",
      "Requirement already satisfied: opencv-python-headless in /opt/homebrew/anaconda3/lib/python3.11/site-packages (4.10.0.84)\n",
      "Requirement already satisfied: pytube in /opt/homebrew/anaconda3/lib/python3.11/site-packages (15.0.0)\n",
      "Requirement already satisfied: numpy>=1.21.2 in /opt/homebrew/anaconda3/lib/python3.11/site-packages (from opencv-python) (1.26.4)\n",
      "Note: you may need to restart the kernel to use updated packages.\n"
     ]
    }
   ],
   "source": [
    "pip install opencv-python opencv-python-headless pytube\n"
   ]
  },
  {
   "cell_type": "code",
   "execution_count": 2,
   "metadata": {},
   "outputs": [
    {
     "name": "stdout",
     "output_type": "stream",
     "text": [
      "Requirement already satisfied: opencv-python in /opt/homebrew/anaconda3/lib/python3.11/site-packages (4.10.0.84)\n",
      "Requirement already satisfied: yt-dlp in /opt/homebrew/anaconda3/lib/python3.11/site-packages (2024.9.27)\n",
      "Requirement already satisfied: numpy>=1.21.2 in /opt/homebrew/anaconda3/lib/python3.11/site-packages (from opencv-python) (1.26.4)\n",
      "Requirement already satisfied: brotli in /opt/homebrew/anaconda3/lib/python3.11/site-packages (from yt-dlp) (1.0.9)\n",
      "Requirement already satisfied: certifi in /opt/homebrew/anaconda3/lib/python3.11/site-packages (from yt-dlp) (2024.2.2)\n",
      "Requirement already satisfied: mutagen in /opt/homebrew/anaconda3/lib/python3.11/site-packages (from yt-dlp) (1.47.0)\n",
      "Requirement already satisfied: pycryptodomex in /opt/homebrew/anaconda3/lib/python3.11/site-packages (from yt-dlp) (3.20.0)\n",
      "Requirement already satisfied: requests<3,>=2.32.2 in /opt/homebrew/anaconda3/lib/python3.11/site-packages (from yt-dlp) (2.32.3)\n",
      "Requirement already satisfied: urllib3<3,>=1.26.17 in /opt/homebrew/anaconda3/lib/python3.11/site-packages (from yt-dlp) (2.0.7)\n",
      "Requirement already satisfied: websockets>=13.0 in /opt/homebrew/anaconda3/lib/python3.11/site-packages (from yt-dlp) (13.1)\n",
      "Requirement already satisfied: charset-normalizer<4,>=2 in /opt/homebrew/anaconda3/lib/python3.11/site-packages (from requests<3,>=2.32.2->yt-dlp) (2.0.4)\n",
      "Requirement already satisfied: idna<4,>=2.5 in /opt/homebrew/anaconda3/lib/python3.11/site-packages (from requests<3,>=2.32.2->yt-dlp) (3.4)\n",
      "Note: you may need to restart the kernel to use updated packages.\n"
     ]
    }
   ],
   "source": [
    "pip install opencv-python yt-dlp\n"
   ]
  },
  {
   "cell_type": "code",
   "execution_count": 3,
   "metadata": {},
   "outputs": [
    {
     "name": "stdout",
     "output_type": "stream",
     "text": [
      "Requirement already satisfied: streamlink in /opt/homebrew/anaconda3/lib/python3.11/site-packages (6.10.0)\n",
      "Requirement already satisfied: certifi in /opt/homebrew/anaconda3/lib/python3.11/site-packages (from streamlink) (2024.2.2)\n",
      "Requirement already satisfied: isodate in /opt/homebrew/anaconda3/lib/python3.11/site-packages (from streamlink) (0.6.1)\n",
      "Requirement already satisfied: lxml<6,>=4.6.4 in /opt/homebrew/anaconda3/lib/python3.11/site-packages (from streamlink) (4.9.3)\n",
      "Requirement already satisfied: pycountry in /opt/homebrew/anaconda3/lib/python3.11/site-packages (from streamlink) (24.6.1)\n",
      "Requirement already satisfied: pycryptodome<4,>=3.4.3 in /opt/homebrew/anaconda3/lib/python3.11/site-packages (from streamlink) (3.20.0)\n",
      "Requirement already satisfied: PySocks!=1.5.7,>=1.5.6 in /opt/homebrew/anaconda3/lib/python3.11/site-packages (from streamlink) (1.7.1)\n",
      "Requirement already satisfied: requests<3,>=2.26.0 in /opt/homebrew/anaconda3/lib/python3.11/site-packages (from streamlink) (2.32.3)\n",
      "Requirement already satisfied: trio<1,>=0.22.0 in /opt/homebrew/anaconda3/lib/python3.11/site-packages (from streamlink) (0.26.0)\n",
      "Requirement already satisfied: trio-websocket<1,>=0.9.0 in /opt/homebrew/anaconda3/lib/python3.11/site-packages (from streamlink) (0.11.1)\n",
      "Requirement already satisfied: typing-extensions>=4.0.0 in /opt/homebrew/anaconda3/lib/python3.11/site-packages (from streamlink) (4.9.0)\n",
      "Requirement already satisfied: urllib3<3,>=1.26.0 in /opt/homebrew/anaconda3/lib/python3.11/site-packages (from streamlink) (2.0.7)\n",
      "Requirement already satisfied: websocket-client<2,>=1.2.1 in /opt/homebrew/anaconda3/lib/python3.11/site-packages (from streamlink) (1.8.0)\n",
      "Requirement already satisfied: charset-normalizer<4,>=2 in /opt/homebrew/anaconda3/lib/python3.11/site-packages (from requests<3,>=2.26.0->streamlink) (2.0.4)\n",
      "Requirement already satisfied: idna<4,>=2.5 in /opt/homebrew/anaconda3/lib/python3.11/site-packages (from requests<3,>=2.26.0->streamlink) (3.4)\n",
      "Requirement already satisfied: attrs>=23.2.0 in /opt/homebrew/anaconda3/lib/python3.11/site-packages (from trio<1,>=0.22.0->streamlink) (24.1.0)\n",
      "Requirement already satisfied: sortedcontainers in /opt/homebrew/anaconda3/lib/python3.11/site-packages (from trio<1,>=0.22.0->streamlink) (2.4.0)\n",
      "Requirement already satisfied: outcome in /opt/homebrew/anaconda3/lib/python3.11/site-packages (from trio<1,>=0.22.0->streamlink) (1.3.0.post0)\n",
      "Requirement already satisfied: sniffio>=1.3.0 in /opt/homebrew/anaconda3/lib/python3.11/site-packages (from trio<1,>=0.22.0->streamlink) (1.3.0)\n",
      "Requirement already satisfied: wsproto>=0.14 in /opt/homebrew/anaconda3/lib/python3.11/site-packages (from trio-websocket<1,>=0.9.0->streamlink) (1.2.0)\n",
      "Requirement already satisfied: six in /opt/homebrew/anaconda3/lib/python3.11/site-packages (from isodate->streamlink) (1.16.0)\n",
      "Requirement already satisfied: h11<1,>=0.9.0 in /opt/homebrew/anaconda3/lib/python3.11/site-packages (from wsproto>=0.14->trio-websocket<1,>=0.9.0->streamlink) (0.14.0)\n",
      "Note: you may need to restart the kernel to use updated packages.\n"
     ]
    }
   ],
   "source": [
    "pip install streamlink\n"
   ]
  },
  {
   "cell_type": "code",
   "execution_count": 4,
   "metadata": {},
   "outputs": [],
   "source": [
    "# Update this path to where you saved coco.names\n",
    "coco_names_path = \"/Users/chiragn/Desktop/TIMES SQUARE/coco.names\"  # Change this to your path\n",
    "\n",
    "with open(coco_names_path, \"r\") as f:\n",
    "    classes = [line.strip() for line in f.readlines()]\n"
   ]
  },
  {
   "cell_type": "code",
   "execution_count": 5,
   "metadata": {},
   "outputs": [
    {
     "name": "stdout",
     "output_type": "stream",
     "text": [
      "Requirement already satisfied: pafy in /opt/homebrew/anaconda3/lib/python3.11/site-packages (0.5.5)\n",
      "Requirement already satisfied: youtube_dl in /opt/homebrew/anaconda3/lib/python3.11/site-packages (2021.12.17)\n",
      "Requirement already satisfied: opencv-python in /opt/homebrew/anaconda3/lib/python3.11/site-packages (4.10.0.84)\n",
      "Requirement already satisfied: numpy in /opt/homebrew/anaconda3/lib/python3.11/site-packages (1.26.4)\n",
      "Note: you may need to restart the kernel to use updated packages.\n"
     ]
    }
   ],
   "source": [
    "pip install pafy youtube_dl opencv-python numpy"
   ]
  },
  {
   "cell_type": "code",
   "execution_count": 6,
   "metadata": {},
   "outputs": [
    {
     "name": "stdout",
     "output_type": "stream",
     "text": [
      "Collecting git+https://github.com/ytdl-org/youtube-dl.git\n",
      "  Cloning https://github.com/ytdl-org/youtube-dl.git to /private/var/folders/47/bh11rgr97kv3n95hy38kv3540000gn/T/pip-req-build-ulx8udlk\n",
      "  Running command git clone --filter=blob:none --quiet https://github.com/ytdl-org/youtube-dl.git /private/var/folders/47/bh11rgr97kv3n95hy38kv3540000gn/T/pip-req-build-ulx8udlk\n",
      "  Resolved https://github.com/ytdl-org/youtube-dl.git to commit c5098961b04ce83f4615f2a846c84f803b072639\n",
      "  Preparing metadata (setup.py) ... \u001b[?25ldone\n",
      "\u001b[?25hBuilding wheels for collected packages: youtube-dl\n",
      "  Building wheel for youtube-dl (setup.py) ... \u001b[?25ldone\n",
      "\u001b[?25h  Created wheel for youtube-dl: filename=youtube_dl-2021.12.17-py2.py3-none-any.whl size=1969895 sha256=a984df4b53cd8c97674311ea526b518df89372e051126801638929d81353f040\n",
      "  Stored in directory: /private/var/folders/47/bh11rgr97kv3n95hy38kv3540000gn/T/pip-ephem-wheel-cache-zf4jiwc7/wheels/91/cb/b5/629bb9aeb351f550a453ee0e4cccdea4c8cf4a16074cb0bd4e\n",
      "Successfully built youtube-dl\n",
      "Installing collected packages: youtube-dl\n",
      "  Attempting uninstall: youtube-dl\n",
      "    Found existing installation: youtube-dl 2021.12.17\n",
      "    Uninstalling youtube-dl-2021.12.17:\n",
      "      Successfully uninstalled youtube-dl-2021.12.17\n",
      "Successfully installed youtube-dl-2021.12.17\n",
      "Note: you may need to restart the kernel to use updated packages.\n"
     ]
    }
   ],
   "source": [
    "pip install --upgrade --force-reinstall \"git+https://github.com/ytdl-org/youtube-dl.git\""
   ]
  },
  {
   "cell_type": "code",
   "execution_count": 9,
   "metadata": {},
   "outputs": [
    {
     "name": "stdout",
     "output_type": "stream",
     "text": [
      "Requirement already satisfied: yt-dlp in /opt/homebrew/anaconda3/lib/python3.11/site-packages (2024.9.27)\n",
      "Requirement already satisfied: opencv-python in /opt/homebrew/anaconda3/lib/python3.11/site-packages (4.10.0.84)\n",
      "Requirement already satisfied: numpy in /opt/homebrew/anaconda3/lib/python3.11/site-packages (1.26.4)\n",
      "Requirement already satisfied: brotli in /opt/homebrew/anaconda3/lib/python3.11/site-packages (from yt-dlp) (1.0.9)\n",
      "Requirement already satisfied: certifi in /opt/homebrew/anaconda3/lib/python3.11/site-packages (from yt-dlp) (2024.2.2)\n",
      "Requirement already satisfied: mutagen in /opt/homebrew/anaconda3/lib/python3.11/site-packages (from yt-dlp) (1.47.0)\n",
      "Requirement already satisfied: pycryptodomex in /opt/homebrew/anaconda3/lib/python3.11/site-packages (from yt-dlp) (3.20.0)\n",
      "Requirement already satisfied: requests<3,>=2.32.2 in /opt/homebrew/anaconda3/lib/python3.11/site-packages (from yt-dlp) (2.32.3)\n",
      "Requirement already satisfied: urllib3<3,>=1.26.17 in /opt/homebrew/anaconda3/lib/python3.11/site-packages (from yt-dlp) (2.0.7)\n",
      "Requirement already satisfied: websockets>=13.0 in /opt/homebrew/anaconda3/lib/python3.11/site-packages (from yt-dlp) (13.1)\n",
      "Requirement already satisfied: charset-normalizer<4,>=2 in /opt/homebrew/anaconda3/lib/python3.11/site-packages (from requests<3,>=2.32.2->yt-dlp) (2.0.4)\n",
      "Requirement already satisfied: idna<4,>=2.5 in /opt/homebrew/anaconda3/lib/python3.11/site-packages (from requests<3,>=2.32.2->yt-dlp) (3.4)\n",
      "Note: you may need to restart the kernel to use updated packages.\n"
     ]
    }
   ],
   "source": [
    "pip install yt-dlp opencv-python numpy"
   ]
  },
  {
   "cell_type": "code",
   "execution_count": 1,
   "metadata": {},
   "outputs": [
    {
     "name": "stdout",
     "output_type": "stream",
     "text": [
      "weights_path exists: True, size: 248007048 bytes\n",
      "cfg_path exists: True, size: 8342 bytes\n",
      "coco_names_path exists: True, size: 624 bytes\n",
      "Loaded 80 class names\n",
      "First 10 class names: ['person', 'bicycle', 'car', 'motorbike', 'aeroplane', 'bus', 'train', 'truck', 'boat', 'traffic light']\n",
      "[youtube] Extracting URL: https://www.youtube.com/live/PQQ8EPRFLzo?si=vNT8GhTT89859XA8\n",
      "[youtube] PQQ8EPRFLzo: Downloading webpage\n",
      "[youtube] PQQ8EPRFLzo: Downloading ios player API JSON\n",
      "[youtube] PQQ8EPRFLzo: Downloading web creator player API JSON\n",
      "[youtube] PQQ8EPRFLzo: Downloading m3u8 information\n",
      "[youtube] PQQ8EPRFLzo: Downloading m3u8 information\n",
      "Successfully retrieved stream URL: https://manifest.googlevideo.com/api/manifest/hls_...\n",
      "[2024-10-01 10:41:31] Head Count: 23\n",
      "[2024-10-01 10:41:32] Head Count: 22\n",
      "[2024-10-01 10:41:33] Head Count: 16\n",
      "[2024-10-01 10:41:33] Head Count: 19\n"
     ]
    },
    {
     "name": "stderr",
     "output_type": "stream",
     "text": [
      "2024-10-01 10:41:33.334 python[20752:444593] +[IMKClient subclass]: chose IMKClient_Legacy\n",
      "2024-10-01 10:41:33.334 python[20752:444593] +[IMKInputSession subclass]: chose IMKInputSession_Legacy\n"
     ]
    },
    {
     "name": "stdout",
     "output_type": "stream",
     "text": [
      "[2024-10-01 10:41:33] Head Count: 16\n",
      "[2024-10-01 10:41:34] Head Count: 18\n",
      "[2024-10-01 10:41:34] Head Count: 18\n",
      "[2024-10-01 10:41:34] Head Count: 14\n",
      "[2024-10-01 10:41:34] Head Count: 14\n",
      "[2024-10-01 10:41:35] Head Count: 21\n",
      "[2024-10-01 10:41:36] Head Count: 18\n",
      "[2024-10-01 10:41:37] Head Count: 22\n",
      "[2024-10-01 10:41:37] Head Count: 23\n",
      "[2024-10-01 10:41:37] Head Count: 20\n",
      "[2024-10-01 10:41:39] Head Count: 22\n",
      "[2024-10-01 10:41:39] Head Count: 30\n",
      "[2024-10-01 10:41:39] Head Count: 22\n",
      "[2024-10-01 10:41:40] Head Count: 23\n",
      "[2024-10-01 10:41:40] Head Count: 24\n",
      "[2024-10-01 10:41:45] Head Count: 23\n",
      "[2024-10-01 10:41:46] Head Count: 18\n",
      "[2024-10-01 10:41:46] Head Count: 20\n",
      "[2024-10-01 10:41:46] Head Count: 20\n",
      "[2024-10-01 10:41:46] Head Count: 19\n",
      "[2024-10-01 10:41:47] Head Count: 24\n",
      "[2024-10-01 10:41:47] Head Count: 22\n",
      "[2024-10-01 10:41:47] Head Count: 21\n",
      "[2024-10-01 10:41:47] Head Count: 20\n",
      "[2024-10-01 10:41:48] Head Count: 25\n",
      "[2024-10-01 10:41:51] Head Count: 21\n",
      "[2024-10-01 10:41:51] Head Count: 28\n",
      "[2024-10-01 10:41:51] Head Count: 21\n",
      "[2024-10-01 10:41:52] Head Count: 25\n",
      "[2024-10-01 10:41:52] Head Count: 23\n"
     ]
    },
    {
     "ename": "KeyboardInterrupt",
     "evalue": "",
     "output_type": "error",
     "traceback": [
      "\u001b[0;31m---------------------------------------------------------------------------\u001b[0m",
      "\u001b[0;31mKeyboardInterrupt\u001b[0m                         Traceback (most recent call last)",
      "Cell \u001b[0;32mIn[1], line 154\u001b[0m\n\u001b[1;32m    151\u001b[0m \u001b[38;5;28;01mif\u001b[39;00m \u001b[38;5;18m__name__\u001b[39m \u001b[38;5;241m==\u001b[39m \u001b[38;5;124m\"\u001b[39m\u001b[38;5;124m__main__\u001b[39m\u001b[38;5;124m\"\u001b[39m:\n\u001b[1;32m    152\u001b[0m     \u001b[38;5;66;03m# Replace with your live video URL\u001b[39;00m\n\u001b[1;32m    153\u001b[0m     live_video_url \u001b[38;5;241m=\u001b[39m \u001b[38;5;124m\"\u001b[39m\u001b[38;5;124mhttps://www.youtube.com/live/PQQ8EPRFLzo?si=vNT8GhTT89859XA8\u001b[39m\u001b[38;5;124m\"\u001b[39m\n\u001b[0;32m--> 154\u001b[0m     process_live_video(live_video_url)\n",
      "Cell \u001b[0;32mIn[1], line 79\u001b[0m, in \u001b[0;36mprocess_live_video\u001b[0;34m(video_url)\u001b[0m\n\u001b[1;32m     77\u001b[0m frame_count \u001b[38;5;241m=\u001b[39m \u001b[38;5;241m0\u001b[39m\n\u001b[1;32m     78\u001b[0m \u001b[38;5;28;01mwhile\u001b[39;00m \u001b[38;5;28;01mTrue\u001b[39;00m:\n\u001b[0;32m---> 79\u001b[0m     ret, frame \u001b[38;5;241m=\u001b[39m cap\u001b[38;5;241m.\u001b[39mread()\n\u001b[1;32m     80\u001b[0m     \u001b[38;5;28;01mif\u001b[39;00m \u001b[38;5;129;01mnot\u001b[39;00m ret:\n\u001b[1;32m     81\u001b[0m         log_output(\u001b[38;5;124m\"\u001b[39m\u001b[38;5;124mFailed to capture frame. Exiting.\u001b[39m\u001b[38;5;124m\"\u001b[39m)\n",
      "\u001b[0;31mKeyboardInterrupt\u001b[0m: "
     ]
    },
    {
     "ename": "",
     "evalue": "",
     "output_type": "error",
     "traceback": [
      "\u001b[1;31mThe Kernel crashed while executing code in the current cell or a previous cell. \n",
      "\u001b[1;31mPlease review the code in the cell(s) to identify a possible cause of the failure. \n",
      "\u001b[1;31mClick <a href='https://aka.ms/vscodeJupyterKernelCrash'>here</a> for more info. \n",
      "\u001b[1;31mView Jupyter <a href='command:jupyter.viewOutput'>log</a> for further details."
     ]
    }
   ],
   "source": [
    "import cv2\n",
    "import numpy as np\n",
    "from datetime import datetime\n",
    "import yt_dlp\n",
    "import os\n",
    "\n",
    "def load_yolo_model(weights_path, cfg_path):\n",
    "    try:\n",
    "        net = cv2.dnn.readNet(weights_path, cfg_path)\n",
    "        layer_names = net.getLayerNames()\n",
    "        output_layers = [layer_names[i - 1] for i in net.getUnconnectedOutLayers()]\n",
    "        return net, output_layers\n",
    "    except Exception as e:\n",
    "        print(f\"Error loading YOLO model: {e}\")\n",
    "        return None, None\n",
    "\n",
    "def get_youtube_stream(url):\n",
    "    ydl_opts = {'format': 'best'}\n",
    "    with yt_dlp.YoutubeDL(ydl_opts) as ydl:\n",
    "        info = ydl.extract_info(url, download=False)\n",
    "        return info['url']\n",
    "\n",
    "def log_output(message):\n",
    "    with open(\"outputv3.txt\", \"a\") as f:  # Change to outputv3.txt\n",
    "        f.write(f\"{message}\\n\")\n",
    "    print(message)\n",
    "\n",
    "def process_live_video(video_url):\n",
    "    # Load YOLO model\n",
    "    base_path = \"/Users/chiragn/Desktop/TIMES SQUARE\"\n",
    "    weights_path = os.path.join(base_path, \"yolov3.weights\")\n",
    "    cfg_path = os.path.join(base_path, \"yolov3.cfg\")\n",
    "    coco_names_path = os.path.join(base_path, \"coco.names\")\n",
    "\n",
    "    # Debug: Check if files exist and print their sizes\n",
    "    log_output(f\"weights_path exists: {os.path.exists(weights_path)}, size: {os.path.getsize(weights_path) if os.path.exists(weights_path) else 'N/A'} bytes\")\n",
    "    log_output(f\"cfg_path exists: {os.path.exists(cfg_path)}, size: {os.path.getsize(cfg_path) if os.path.exists(cfg_path) else 'N/A'} bytes\")\n",
    "    log_output(f\"coco_names_path exists: {os.path.exists(coco_names_path)}, size: {os.path.getsize(coco_names_path) if os.path.exists(coco_names_path) else 'N/A'} bytes\")\n",
    "\n",
    "    net, output_layers = load_yolo_model(weights_path, cfg_path)\n",
    "\n",
    "    if net is None:\n",
    "        log_output(\"Failed to load YOLO model. Exiting.\")\n",
    "        return\n",
    "\n",
    "    # Load COCO class names\n",
    "    try:\n",
    "        with open(coco_names_path, \"r\") as f:\n",
    "            classes = [line.strip() for line in f.readlines()]\n",
    "        log_output(f\"Loaded {len(classes)} class names\")\n",
    "        log_output(\"First 10 class names: \" + str(classes[:10]))  # Print first 10 class names for debugging\n",
    "    except Exception as e:\n",
    "        log_output(f\"Error loading class names: {e}\")\n",
    "        # Try to print file contents\n",
    "        try:\n",
    "            with open(coco_names_path, \"r\") as f:\n",
    "                log_output(\"File contents:\")\n",
    "                log_output(f.read())\n",
    "        except Exception as e:\n",
    "            log_output(f\"Error reading coco.names file: {e}\")\n",
    "        return\n",
    "\n",
    "    # Get the actual stream URL\n",
    "    try:\n",
    "        stream_url = get_youtube_stream(video_url)\n",
    "        log_output(f\"Successfully retrieved stream URL: {stream_url[:50]}...\")  # Print first 50 chars of URL\n",
    "    except Exception as e:\n",
    "        log_output(f\"Error getting stream URL: {e}\")\n",
    "        return\n",
    "\n",
    "    cap = cv2.VideoCapture(stream_url)\n",
    "\n",
    "    if not cap.isOpened():\n",
    "        log_output(\"Error opening video stream or file\")\n",
    "        return\n",
    "\n",
    "    frame_count = 0\n",
    "    while True:\n",
    "        ret, frame = cap.read()\n",
    "        if not ret:\n",
    "            log_output(\"Failed to capture frame. Exiting.\")\n",
    "            break\n",
    "\n",
    "        frame_count += 1\n",
    "        if frame_count % 30 == 0:  # Process every 30th frame\n",
    "            # Perform YOLO detection on the frame\n",
    "            blob = cv2.dnn.blobFromImage(frame, 0.00392, (416, 416), (0, 0, 0), True, crop=False)\n",
    "            net.setInput(blob)\n",
    "            outs = net.forward(output_layers)\n",
    "\n",
    "            # Process the outputs to extract bounding boxes, confidences, etc.\n",
    "            class_ids = []\n",
    "            confidences = []\n",
    "            boxes = []\n",
    "            height, width, _ = frame.shape\n",
    "\n",
    "            for out in outs:\n",
    "                for detection in out:\n",
    "                    scores = detection[5:]\n",
    "                    class_id = np.argmax(scores)\n",
    "                    confidence = scores[class_id]\n",
    "                    if confidence > 0.5:  # Confidence threshold\n",
    "                        center_x = int(detection[0] * width)\n",
    "                        center_y = int(detection[1] * height)\n",
    "                        w = int(detection[2] * width)\n",
    "                        h = int(detection[3] * height)\n",
    "\n",
    "                        # Rectangle coordinates\n",
    "                        x = int(center_x - w / 2)\n",
    "                        y = int(center_y - h / 2)\n",
    "\n",
    "                        boxes.append([x, y, w, h])\n",
    "                        confidences.append(float(confidence))\n",
    "                        class_ids.append(class_id)\n",
    "\n",
    "            # Apply Non-Maxima Suppression\n",
    "            indexes = cv2.dnn.NMSBoxes(boxes, confidences, 0.5, 0.4)\n",
    "\n",
    "            # Count heads detected (assuming class_id for heads is known)\n",
    "            head_count = 0\n",
    "            for i in range(len(boxes)):\n",
    "                if i in indexes:\n",
    "                    try:\n",
    "                        x, y, w, h = boxes[i]\n",
    "                        class_id = class_ids[i]\n",
    "                        if 0 <= class_id < len(classes):\n",
    "                            label = str(classes[class_id])\n",
    "                            # Assuming the label for heads is 'person'\n",
    "                            if label == 'person':\n",
    "                                head_count += 1\n",
    "                                color = (0, 255, 0)  # Green color\n",
    "                                cv2.rectangle(frame, (x, y), (x + w, y + h), color, 2)\n",
    "                                cv2.putText(frame, label, (x, y + 30), cv2.FONT_HERSHEY_SIMPLEX, 1, color, 2)\n",
    "                        else:\n",
    "                            log_output(f\"Warning: class_id {class_id} is out of range\")\n",
    "                    except Exception as e:\n",
    "                        log_output(f\"Error processing detection: {e}\")\n",
    "\n",
    "            # Log head count with timestamp\n",
    "            current_time = datetime.now().strftime(\"%Y-%m-%d %H:%M:%S\")\n",
    "            log_output(f\"[{current_time}] Head Count: {head_count}\")\n",
    "\n",
    "            # Show the frame\n",
    "            cv2.imshow(\"Live Video\", frame)\n",
    "            if cv2.waitKey(1) & 0xFF == ord('q'):\n",
    "                break\n",
    "\n",
    "    cap.release()\n",
    "    cv2.destroyAllWindows()\n",
    "\n",
    "if __name__ == \"__main__\":\n",
    "    # Replace with your live video URL\n",
    "    live_video_url = \"https://www.youtube.com/live/PQQ8EPRFLzo?si=vNT8GhTT89859XA8\"\n",
    "    process_live_video(live_video_url)\n"
   ]
  },
  {
   "cell_type": "code",
   "execution_count": 3,
   "metadata": {},
   "outputs": [
    {
     "name": "stdout",
     "output_type": "stream",
     "text": [
      "Weights file exists at /Users/chiragn/Desktop/TIMES SQUARE/yolov3.weights\n",
      "Config file exists at /Users/chiragn/Desktop/TIMES SQUARE/yolov3.cfg\n"
     ]
    }
   ],
   "source": [
    "import os\n",
    "\n",
    "weights_path = \"/Users/chiragn/Desktop/TIMES SQUARE/yolov3.weights\"  # Update with your path\n",
    "cfg_path = \"/Users/chiragn/Desktop/TIMES SQUARE/yolov3.cfg\"          # Update with your path\n",
    "\n",
    "# Check if files exist\n",
    "if not os.path.isfile(weights_path):\n",
    "    print(f\"Error: Weights file does not exist at {weights_path}\")\n",
    "else:\n",
    "    print(f\"Weights file exists at {weights_path}\")\n",
    "\n",
    "if not os.path.isfile(cfg_path):\n",
    "    print(f\"Error: Config file does not exist at {cfg_path}\")\n",
    "else:\n",
    "    print(f\"Config file exists at {cfg_path}\")\n"
   ]
  },
  {
   "cell_type": "code",
   "execution_count": null,
   "metadata": {},
   "outputs": [],
   "source": []
  },
  {
   "cell_type": "code",
   "execution_count": null,
   "metadata": {},
   "outputs": [],
   "source": []
  },
  {
   "cell_type": "code",
   "execution_count": 4,
   "metadata": {},
   "outputs": [],
   "source": []
  },
  {
   "cell_type": "code",
   "execution_count": null,
   "metadata": {},
   "outputs": [],
   "source": []
  },
  {
   "cell_type": "code",
   "execution_count": null,
   "metadata": {},
   "outputs": [],
   "source": []
  }
 ],
 "metadata": {
  "kernelspec": {
   "display_name": "base",
   "language": "python",
   "name": "python3"
  },
  "language_info": {
   "codemirror_mode": {
    "name": "ipython",
    "version": 3
   },
   "file_extension": ".py",
   "mimetype": "text/x-python",
   "name": "python",
   "nbconvert_exporter": "python",
   "pygments_lexer": "ipython3",
   "version": "3.11.7"
  }
 },
 "nbformat": 4,
 "nbformat_minor": 2
}
