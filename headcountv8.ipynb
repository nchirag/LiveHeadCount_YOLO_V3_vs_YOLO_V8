{
 "cells": [
  {
   "cell_type": "code",
   "execution_count": 1,
   "metadata": {},
   "outputs": [
    {
     "name": "stdout",
     "output_type": "stream",
     "text": [
      "Requirement already satisfied: opencv-python in /opt/homebrew/anaconda3/lib/python3.11/site-packages (4.10.0.84)\n",
      "Requirement already satisfied: opencv-python-headless in /opt/homebrew/anaconda3/lib/python3.11/site-packages (4.10.0.84)\n",
      "Requirement already satisfied: pytube in /opt/homebrew/anaconda3/lib/python3.11/site-packages (15.0.0)\n",
      "Requirement already satisfied: numpy>=1.21.2 in /opt/homebrew/anaconda3/lib/python3.11/site-packages (from opencv-python) (1.26.4)\n",
      "Note: you may need to restart the kernel to use updated packages.\n"
     ]
    }
   ],
   "source": [
    "pip install opencv-python opencv-python-headless pytube\n"
   ]
  },
  {
   "cell_type": "code",
   "execution_count": 2,
   "metadata": {},
   "outputs": [
    {
     "name": "stdout",
     "output_type": "stream",
     "text": [
      "Requirement already satisfied: opencv-python in /opt/homebrew/anaconda3/lib/python3.11/site-packages (4.10.0.84)\n",
      "Requirement already satisfied: yt-dlp in /opt/homebrew/anaconda3/lib/python3.11/site-packages (2024.9.27)\n",
      "Requirement already satisfied: numpy>=1.21.2 in /opt/homebrew/anaconda3/lib/python3.11/site-packages (from opencv-python) (1.26.4)\n",
      "Requirement already satisfied: brotli in /opt/homebrew/anaconda3/lib/python3.11/site-packages (from yt-dlp) (1.0.9)\n",
      "Requirement already satisfied: certifi in /opt/homebrew/anaconda3/lib/python3.11/site-packages (from yt-dlp) (2024.2.2)\n",
      "Requirement already satisfied: mutagen in /opt/homebrew/anaconda3/lib/python3.11/site-packages (from yt-dlp) (1.47.0)\n",
      "Requirement already satisfied: pycryptodomex in /opt/homebrew/anaconda3/lib/python3.11/site-packages (from yt-dlp) (3.20.0)\n",
      "Requirement already satisfied: requests<3,>=2.32.2 in /opt/homebrew/anaconda3/lib/python3.11/site-packages (from yt-dlp) (2.32.3)\n",
      "Requirement already satisfied: urllib3<3,>=1.26.17 in /opt/homebrew/anaconda3/lib/python3.11/site-packages (from yt-dlp) (2.0.7)\n",
      "Requirement already satisfied: websockets>=13.0 in /opt/homebrew/anaconda3/lib/python3.11/site-packages (from yt-dlp) (13.1)\n",
      "Requirement already satisfied: charset-normalizer<4,>=2 in /opt/homebrew/anaconda3/lib/python3.11/site-packages (from requests<3,>=2.32.2->yt-dlp) (2.0.4)\n",
      "Requirement already satisfied: idna<4,>=2.5 in /opt/homebrew/anaconda3/lib/python3.11/site-packages (from requests<3,>=2.32.2->yt-dlp) (3.4)\n",
      "Note: you may need to restart the kernel to use updated packages.\n"
     ]
    }
   ],
   "source": [
    "pip install opencv-python yt-dlp\n"
   ]
  },
  {
   "cell_type": "code",
   "execution_count": 3,
   "metadata": {},
   "outputs": [
    {
     "name": "stdout",
     "output_type": "stream",
     "text": [
      "Requirement already satisfied: streamlink in /opt/homebrew/anaconda3/lib/python3.11/site-packages (6.10.0)\n",
      "Requirement already satisfied: certifi in /opt/homebrew/anaconda3/lib/python3.11/site-packages (from streamlink) (2024.2.2)\n",
      "Requirement already satisfied: isodate in /opt/homebrew/anaconda3/lib/python3.11/site-packages (from streamlink) (0.6.1)\n",
      "Requirement already satisfied: lxml<6,>=4.6.4 in /opt/homebrew/anaconda3/lib/python3.11/site-packages (from streamlink) (4.9.3)\n",
      "Requirement already satisfied: pycountry in /opt/homebrew/anaconda3/lib/python3.11/site-packages (from streamlink) (24.6.1)\n",
      "Requirement already satisfied: pycryptodome<4,>=3.4.3 in /opt/homebrew/anaconda3/lib/python3.11/site-packages (from streamlink) (3.20.0)\n",
      "Requirement already satisfied: PySocks!=1.5.7,>=1.5.6 in /opt/homebrew/anaconda3/lib/python3.11/site-packages (from streamlink) (1.7.1)\n",
      "Requirement already satisfied: requests<3,>=2.26.0 in /opt/homebrew/anaconda3/lib/python3.11/site-packages (from streamlink) (2.32.3)\n",
      "Requirement already satisfied: trio<1,>=0.22.0 in /opt/homebrew/anaconda3/lib/python3.11/site-packages (from streamlink) (0.26.0)\n",
      "Requirement already satisfied: trio-websocket<1,>=0.9.0 in /opt/homebrew/anaconda3/lib/python3.11/site-packages (from streamlink) (0.11.1)\n",
      "Requirement already satisfied: typing-extensions>=4.0.0 in /opt/homebrew/anaconda3/lib/python3.11/site-packages (from streamlink) (4.9.0)\n",
      "Requirement already satisfied: urllib3<3,>=1.26.0 in /opt/homebrew/anaconda3/lib/python3.11/site-packages (from streamlink) (2.0.7)\n",
      "Requirement already satisfied: websocket-client<2,>=1.2.1 in /opt/homebrew/anaconda3/lib/python3.11/site-packages (from streamlink) (1.8.0)\n",
      "Requirement already satisfied: charset-normalizer<4,>=2 in /opt/homebrew/anaconda3/lib/python3.11/site-packages (from requests<3,>=2.26.0->streamlink) (2.0.4)\n",
      "Requirement already satisfied: idna<4,>=2.5 in /opt/homebrew/anaconda3/lib/python3.11/site-packages (from requests<3,>=2.26.0->streamlink) (3.4)\n",
      "Requirement already satisfied: attrs>=23.2.0 in /opt/homebrew/anaconda3/lib/python3.11/site-packages (from trio<1,>=0.22.0->streamlink) (24.1.0)\n",
      "Requirement already satisfied: sortedcontainers in /opt/homebrew/anaconda3/lib/python3.11/site-packages (from trio<1,>=0.22.0->streamlink) (2.4.0)\n",
      "Requirement already satisfied: outcome in /opt/homebrew/anaconda3/lib/python3.11/site-packages (from trio<1,>=0.22.0->streamlink) (1.3.0.post0)\n",
      "Requirement already satisfied: sniffio>=1.3.0 in /opt/homebrew/anaconda3/lib/python3.11/site-packages (from trio<1,>=0.22.0->streamlink) (1.3.0)\n",
      "Requirement already satisfied: wsproto>=0.14 in /opt/homebrew/anaconda3/lib/python3.11/site-packages (from trio-websocket<1,>=0.9.0->streamlink) (1.2.0)\n",
      "Requirement already satisfied: six in /opt/homebrew/anaconda3/lib/python3.11/site-packages (from isodate->streamlink) (1.16.0)\n",
      "Requirement already satisfied: h11<1,>=0.9.0 in /opt/homebrew/anaconda3/lib/python3.11/site-packages (from wsproto>=0.14->trio-websocket<1,>=0.9.0->streamlink) (0.14.0)\n",
      "Note: you may need to restart the kernel to use updated packages.\n"
     ]
    }
   ],
   "source": [
    "pip install streamlink\n"
   ]
  },
  {
   "cell_type": "code",
   "execution_count": 4,
   "metadata": {},
   "outputs": [],
   "source": [
    "# Update this path to where you saved coco.names\n",
    "coco_names_path = \"/Users/chiragn/Desktop/TIMES SQUARE/coco.names\"  # Change this to your path\n",
    "\n",
    "with open(coco_names_path, \"r\") as f:\n",
    "    classes = [line.strip() for line in f.readlines()]\n"
   ]
  },
  {
   "cell_type": "code",
   "execution_count": 5,
   "metadata": {},
   "outputs": [
    {
     "name": "stdout",
     "output_type": "stream",
     "text": [
      "Requirement already satisfied: pafy in /opt/homebrew/anaconda3/lib/python3.11/site-packages (0.5.5)\n",
      "Requirement already satisfied: youtube_dl in /opt/homebrew/anaconda3/lib/python3.11/site-packages (2021.12.17)\n",
      "Requirement already satisfied: opencv-python in /opt/homebrew/anaconda3/lib/python3.11/site-packages (4.10.0.84)\n",
      "Requirement already satisfied: numpy in /opt/homebrew/anaconda3/lib/python3.11/site-packages (1.26.4)\n",
      "Note: you may need to restart the kernel to use updated packages.\n"
     ]
    }
   ],
   "source": [
    "pip install pafy youtube_dl opencv-python numpy"
   ]
  },
  {
   "cell_type": "code",
   "execution_count": 6,
   "metadata": {},
   "outputs": [
    {
     "name": "stdout",
     "output_type": "stream",
     "text": [
      "Collecting git+https://github.com/ytdl-org/youtube-dl.git\n",
      "  Cloning https://github.com/ytdl-org/youtube-dl.git to /private/var/folders/47/bh11rgr97kv3n95hy38kv3540000gn/T/pip-req-build-o7hmt6_x\n",
      "  Running command git clone --filter=blob:none --quiet https://github.com/ytdl-org/youtube-dl.git /private/var/folders/47/bh11rgr97kv3n95hy38kv3540000gn/T/pip-req-build-o7hmt6_x\n",
      "  Resolved https://github.com/ytdl-org/youtube-dl.git to commit c5098961b04ce83f4615f2a846c84f803b072639\n",
      "  Preparing metadata (setup.py) ... \u001b[?25ldone\n",
      "\u001b[?25hBuilding wheels for collected packages: youtube-dl\n",
      "  Building wheel for youtube-dl (setup.py) ... \u001b[?25ldone\n",
      "\u001b[?25h  Created wheel for youtube-dl: filename=youtube_dl-2021.12.17-py2.py3-none-any.whl size=1969895 sha256=e1c3ca6a3a828de347263444bbfba849b93f3e7c1fb85cc0ddb814c7af9c55a0\n",
      "  Stored in directory: /private/var/folders/47/bh11rgr97kv3n95hy38kv3540000gn/T/pip-ephem-wheel-cache-vxqr5uwq/wheels/91/cb/b5/629bb9aeb351f550a453ee0e4cccdea4c8cf4a16074cb0bd4e\n",
      "Successfully built youtube-dl\n",
      "Installing collected packages: youtube-dl\n",
      "  Attempting uninstall: youtube-dl\n",
      "    Found existing installation: youtube-dl 2021.12.17\n",
      "    Uninstalling youtube-dl-2021.12.17:\n",
      "      Successfully uninstalled youtube-dl-2021.12.17\n",
      "Successfully installed youtube-dl-2021.12.17\n",
      "Note: you may need to restart the kernel to use updated packages.\n"
     ]
    }
   ],
   "source": [
    "pip install --upgrade --force-reinstall \"git+https://github.com/ytdl-org/youtube-dl.git\""
   ]
  },
  {
   "cell_type": "code",
   "execution_count": 7,
   "metadata": {},
   "outputs": [
    {
     "name": "stdout",
     "output_type": "stream",
     "text": [
      "Requirement already satisfied: yt-dlp in /opt/homebrew/anaconda3/lib/python3.11/site-packages (2024.9.27)\n",
      "Requirement already satisfied: opencv-python in /opt/homebrew/anaconda3/lib/python3.11/site-packages (4.10.0.84)\n",
      "Requirement already satisfied: numpy in /opt/homebrew/anaconda3/lib/python3.11/site-packages (1.26.4)\n",
      "Requirement already satisfied: brotli in /opt/homebrew/anaconda3/lib/python3.11/site-packages (from yt-dlp) (1.0.9)\n",
      "Requirement already satisfied: certifi in /opt/homebrew/anaconda3/lib/python3.11/site-packages (from yt-dlp) (2024.2.2)\n",
      "Requirement already satisfied: mutagen in /opt/homebrew/anaconda3/lib/python3.11/site-packages (from yt-dlp) (1.47.0)\n",
      "Requirement already satisfied: pycryptodomex in /opt/homebrew/anaconda3/lib/python3.11/site-packages (from yt-dlp) (3.20.0)\n",
      "Requirement already satisfied: requests<3,>=2.32.2 in /opt/homebrew/anaconda3/lib/python3.11/site-packages (from yt-dlp) (2.32.3)\n",
      "Requirement already satisfied: urllib3<3,>=1.26.17 in /opt/homebrew/anaconda3/lib/python3.11/site-packages (from yt-dlp) (2.0.7)\n",
      "Requirement already satisfied: websockets>=13.0 in /opt/homebrew/anaconda3/lib/python3.11/site-packages (from yt-dlp) (13.1)\n",
      "Requirement already satisfied: charset-normalizer<4,>=2 in /opt/homebrew/anaconda3/lib/python3.11/site-packages (from requests<3,>=2.32.2->yt-dlp) (2.0.4)\n",
      "Requirement already satisfied: idna<4,>=2.5 in /opt/homebrew/anaconda3/lib/python3.11/site-packages (from requests<3,>=2.32.2->yt-dlp) (3.4)\n",
      "Note: you may need to restart the kernel to use updated packages.\n"
     ]
    }
   ],
   "source": [
    "pip install yt-dlp opencv-python numpy"
   ]
  },
  {
   "cell_type": "code",
   "execution_count": 8,
   "metadata": {},
   "outputs": [
    {
     "name": "stdout",
     "output_type": "stream",
     "text": [
      "Weights file exists at /Users/chiragn/Desktop/TIMES SQUARE/yolov3.weights\n",
      "Config file exists at /Users/chiragn/Desktop/TIMES SQUARE/yolov3.cfg\n"
     ]
    }
   ],
   "source": [
    "import os\n",
    "\n",
    "weights_path = \"/Users/chiragn/Desktop/TIMES SQUARE/yolov3.weights\"  # Update with your path\n",
    "cfg_path = \"/Users/chiragn/Desktop/TIMES SQUARE/yolov3.cfg\"          # Update with your path\n",
    "\n",
    "# Check if files exist\n",
    "if not os.path.isfile(weights_path):\n",
    "    print(f\"Error: Weights file does not exist at {weights_path}\")\n",
    "else:\n",
    "    print(f\"Weights file exists at {weights_path}\")\n",
    "\n",
    "if not os.path.isfile(cfg_path):\n",
    "    print(f\"Error: Config file does not exist at {cfg_path}\")\n",
    "else:\n",
    "    print(f\"Config file exists at {cfg_path}\")\n"
   ]
  },
  {
   "cell_type": "code",
   "execution_count": 9,
   "metadata": {},
   "outputs": [
    {
     "name": "stdout",
     "output_type": "stream",
     "text": [
      "Requirement already satisfied: torch in /opt/homebrew/anaconda3/lib/python3.11/site-packages (2.4.1)\n",
      "Requirement already satisfied: torchvision in /opt/homebrew/anaconda3/lib/python3.11/site-packages (0.19.1)\n",
      "Requirement already satisfied: torchaudio in /opt/homebrew/anaconda3/lib/python3.11/site-packages (2.4.1)\n",
      "Requirement already satisfied: ultralytics in /opt/homebrew/anaconda3/lib/python3.11/site-packages (8.3.1)\n",
      "Requirement already satisfied: filelock in /opt/homebrew/anaconda3/lib/python3.11/site-packages (from torch) (3.13.1)\n",
      "Requirement already satisfied: typing-extensions>=4.8.0 in /opt/homebrew/anaconda3/lib/python3.11/site-packages (from torch) (4.9.0)\n",
      "Requirement already satisfied: sympy in /opt/homebrew/anaconda3/lib/python3.11/site-packages (from torch) (1.12)\n",
      "Requirement already satisfied: networkx in /opt/homebrew/anaconda3/lib/python3.11/site-packages (from torch) (3.1)\n",
      "Requirement already satisfied: jinja2 in /opt/homebrew/anaconda3/lib/python3.11/site-packages (from torch) (3.1.3)\n",
      "Requirement already satisfied: fsspec in /opt/homebrew/anaconda3/lib/python3.11/site-packages (from torch) (2023.10.0)\n",
      "Requirement already satisfied: numpy in /opt/homebrew/anaconda3/lib/python3.11/site-packages (from torchvision) (1.26.4)\n",
      "Requirement already satisfied: pillow!=8.3.*,>=5.3.0 in /opt/homebrew/anaconda3/lib/python3.11/site-packages (from torchvision) (10.2.0)\n",
      "Requirement already satisfied: matplotlib>=3.3.0 in /opt/homebrew/anaconda3/lib/python3.11/site-packages (from ultralytics) (3.8.0)\n",
      "Requirement already satisfied: opencv-python>=4.6.0 in /opt/homebrew/anaconda3/lib/python3.11/site-packages (from ultralytics) (4.10.0.84)\n",
      "Requirement already satisfied: pyyaml>=5.3.1 in /opt/homebrew/anaconda3/lib/python3.11/site-packages (from ultralytics) (6.0.1)\n",
      "Requirement already satisfied: requests>=2.23.0 in /opt/homebrew/anaconda3/lib/python3.11/site-packages (from ultralytics) (2.32.3)\n",
      "Requirement already satisfied: scipy>=1.4.1 in /opt/homebrew/anaconda3/lib/python3.11/site-packages (from ultralytics) (1.11.4)\n",
      "Requirement already satisfied: tqdm>=4.64.0 in /opt/homebrew/anaconda3/lib/python3.11/site-packages (from ultralytics) (4.65.0)\n",
      "Requirement already satisfied: psutil in /opt/homebrew/anaconda3/lib/python3.11/site-packages (from ultralytics) (5.9.0)\n",
      "Requirement already satisfied: py-cpuinfo in /opt/homebrew/anaconda3/lib/python3.11/site-packages (from ultralytics) (9.0.0)\n",
      "Requirement already satisfied: pandas>=1.1.4 in /opt/homebrew/anaconda3/lib/python3.11/site-packages (from ultralytics) (2.1.4)\n",
      "Requirement already satisfied: seaborn>=0.11.0 in /opt/homebrew/anaconda3/lib/python3.11/site-packages (from ultralytics) (0.12.2)\n",
      "Requirement already satisfied: ultralytics-thop>=2.0.0 in /opt/homebrew/anaconda3/lib/python3.11/site-packages (from ultralytics) (2.0.8)\n",
      "Requirement already satisfied: contourpy>=1.0.1 in /opt/homebrew/anaconda3/lib/python3.11/site-packages (from matplotlib>=3.3.0->ultralytics) (1.2.0)\n",
      "Requirement already satisfied: cycler>=0.10 in /opt/homebrew/anaconda3/lib/python3.11/site-packages (from matplotlib>=3.3.0->ultralytics) (0.11.0)\n",
      "Requirement already satisfied: fonttools>=4.22.0 in /opt/homebrew/anaconda3/lib/python3.11/site-packages (from matplotlib>=3.3.0->ultralytics) (4.25.0)\n",
      "Requirement already satisfied: kiwisolver>=1.0.1 in /opt/homebrew/anaconda3/lib/python3.11/site-packages (from matplotlib>=3.3.0->ultralytics) (1.4.4)\n",
      "Requirement already satisfied: packaging>=20.0 in /opt/homebrew/anaconda3/lib/python3.11/site-packages (from matplotlib>=3.3.0->ultralytics) (23.1)\n",
      "Requirement already satisfied: pyparsing>=2.3.1 in /opt/homebrew/anaconda3/lib/python3.11/site-packages (from matplotlib>=3.3.0->ultralytics) (3.0.9)\n",
      "Requirement already satisfied: python-dateutil>=2.7 in /opt/homebrew/anaconda3/lib/python3.11/site-packages (from matplotlib>=3.3.0->ultralytics) (2.8.2)\n",
      "Requirement already satisfied: pytz>=2020.1 in /opt/homebrew/anaconda3/lib/python3.11/site-packages (from pandas>=1.1.4->ultralytics) (2023.3.post1)\n",
      "Requirement already satisfied: tzdata>=2022.1 in /opt/homebrew/anaconda3/lib/python3.11/site-packages (from pandas>=1.1.4->ultralytics) (2023.3)\n",
      "Requirement already satisfied: charset-normalizer<4,>=2 in /opt/homebrew/anaconda3/lib/python3.11/site-packages (from requests>=2.23.0->ultralytics) (2.0.4)\n",
      "Requirement already satisfied: idna<4,>=2.5 in /opt/homebrew/anaconda3/lib/python3.11/site-packages (from requests>=2.23.0->ultralytics) (3.4)\n",
      "Requirement already satisfied: urllib3<3,>=1.21.1 in /opt/homebrew/anaconda3/lib/python3.11/site-packages (from requests>=2.23.0->ultralytics) (2.0.7)\n",
      "Requirement already satisfied: certifi>=2017.4.17 in /opt/homebrew/anaconda3/lib/python3.11/site-packages (from requests>=2.23.0->ultralytics) (2024.2.2)\n",
      "Requirement already satisfied: MarkupSafe>=2.0 in /opt/homebrew/anaconda3/lib/python3.11/site-packages (from jinja2->torch) (2.1.3)\n",
      "Requirement already satisfied: mpmath>=0.19 in /opt/homebrew/anaconda3/lib/python3.11/site-packages (from sympy->torch) (1.3.0)\n",
      "Requirement already satisfied: six>=1.5 in /opt/homebrew/anaconda3/lib/python3.11/site-packages (from python-dateutil>=2.7->matplotlib>=3.3.0->ultralytics) (1.16.0)\n",
      "Note: you may need to restart the kernel to use updated packages.\n"
     ]
    }
   ],
   "source": [
    "pip install torch torchvision torchaudio ultralytics\n"
   ]
  },
  {
   "cell_type": "code",
   "execution_count": 10,
   "metadata": {},
   "outputs": [
    {
     "name": "stdout",
     "output_type": "stream",
     "text": [
      "Requirement already satisfied: ultralytics in /opt/homebrew/anaconda3/lib/python3.11/site-packages (8.3.1)\n",
      "Requirement already satisfied: numpy<2.0.0,>=1.23.0 in /opt/homebrew/anaconda3/lib/python3.11/site-packages (from ultralytics) (1.26.4)\n",
      "Requirement already satisfied: matplotlib>=3.3.0 in /opt/homebrew/anaconda3/lib/python3.11/site-packages (from ultralytics) (3.8.0)\n",
      "Requirement already satisfied: opencv-python>=4.6.0 in /opt/homebrew/anaconda3/lib/python3.11/site-packages (from ultralytics) (4.10.0.84)\n",
      "Requirement already satisfied: pillow>=7.1.2 in /opt/homebrew/anaconda3/lib/python3.11/site-packages (from ultralytics) (10.2.0)\n",
      "Requirement already satisfied: pyyaml>=5.3.1 in /opt/homebrew/anaconda3/lib/python3.11/site-packages (from ultralytics) (6.0.1)\n",
      "Requirement already satisfied: requests>=2.23.0 in /opt/homebrew/anaconda3/lib/python3.11/site-packages (from ultralytics) (2.32.3)\n",
      "Requirement already satisfied: scipy>=1.4.1 in /opt/homebrew/anaconda3/lib/python3.11/site-packages (from ultralytics) (1.11.4)\n",
      "Requirement already satisfied: torch>=1.8.0 in /opt/homebrew/anaconda3/lib/python3.11/site-packages (from ultralytics) (2.4.1)\n",
      "Requirement already satisfied: torchvision>=0.9.0 in /opt/homebrew/anaconda3/lib/python3.11/site-packages (from ultralytics) (0.19.1)\n",
      "Requirement already satisfied: tqdm>=4.64.0 in /opt/homebrew/anaconda3/lib/python3.11/site-packages (from ultralytics) (4.65.0)\n",
      "Requirement already satisfied: psutil in /opt/homebrew/anaconda3/lib/python3.11/site-packages (from ultralytics) (5.9.0)\n",
      "Requirement already satisfied: py-cpuinfo in /opt/homebrew/anaconda3/lib/python3.11/site-packages (from ultralytics) (9.0.0)\n",
      "Requirement already satisfied: pandas>=1.1.4 in /opt/homebrew/anaconda3/lib/python3.11/site-packages (from ultralytics) (2.1.4)\n",
      "Requirement already satisfied: seaborn>=0.11.0 in /opt/homebrew/anaconda3/lib/python3.11/site-packages (from ultralytics) (0.12.2)\n",
      "Requirement already satisfied: ultralytics-thop>=2.0.0 in /opt/homebrew/anaconda3/lib/python3.11/site-packages (from ultralytics) (2.0.8)\n",
      "Requirement already satisfied: contourpy>=1.0.1 in /opt/homebrew/anaconda3/lib/python3.11/site-packages (from matplotlib>=3.3.0->ultralytics) (1.2.0)\n",
      "Requirement already satisfied: cycler>=0.10 in /opt/homebrew/anaconda3/lib/python3.11/site-packages (from matplotlib>=3.3.0->ultralytics) (0.11.0)\n",
      "Requirement already satisfied: fonttools>=4.22.0 in /opt/homebrew/anaconda3/lib/python3.11/site-packages (from matplotlib>=3.3.0->ultralytics) (4.25.0)\n",
      "Requirement already satisfied: kiwisolver>=1.0.1 in /opt/homebrew/anaconda3/lib/python3.11/site-packages (from matplotlib>=3.3.0->ultralytics) (1.4.4)\n",
      "Requirement already satisfied: packaging>=20.0 in /opt/homebrew/anaconda3/lib/python3.11/site-packages (from matplotlib>=3.3.0->ultralytics) (23.1)\n",
      "Requirement already satisfied: pyparsing>=2.3.1 in /opt/homebrew/anaconda3/lib/python3.11/site-packages (from matplotlib>=3.3.0->ultralytics) (3.0.9)\n",
      "Requirement already satisfied: python-dateutil>=2.7 in /opt/homebrew/anaconda3/lib/python3.11/site-packages (from matplotlib>=3.3.0->ultralytics) (2.8.2)\n",
      "Requirement already satisfied: pytz>=2020.1 in /opt/homebrew/anaconda3/lib/python3.11/site-packages (from pandas>=1.1.4->ultralytics) (2023.3.post1)\n",
      "Requirement already satisfied: tzdata>=2022.1 in /opt/homebrew/anaconda3/lib/python3.11/site-packages (from pandas>=1.1.4->ultralytics) (2023.3)\n",
      "Requirement already satisfied: charset-normalizer<4,>=2 in /opt/homebrew/anaconda3/lib/python3.11/site-packages (from requests>=2.23.0->ultralytics) (2.0.4)\n",
      "Requirement already satisfied: idna<4,>=2.5 in /opt/homebrew/anaconda3/lib/python3.11/site-packages (from requests>=2.23.0->ultralytics) (3.4)\n",
      "Requirement already satisfied: urllib3<3,>=1.21.1 in /opt/homebrew/anaconda3/lib/python3.11/site-packages (from requests>=2.23.0->ultralytics) (2.0.7)\n",
      "Requirement already satisfied: certifi>=2017.4.17 in /opt/homebrew/anaconda3/lib/python3.11/site-packages (from requests>=2.23.0->ultralytics) (2024.2.2)\n",
      "Requirement already satisfied: filelock in /opt/homebrew/anaconda3/lib/python3.11/site-packages (from torch>=1.8.0->ultralytics) (3.13.1)\n",
      "Requirement already satisfied: typing-extensions>=4.8.0 in /opt/homebrew/anaconda3/lib/python3.11/site-packages (from torch>=1.8.0->ultralytics) (4.9.0)\n",
      "Requirement already satisfied: sympy in /opt/homebrew/anaconda3/lib/python3.11/site-packages (from torch>=1.8.0->ultralytics) (1.12)\n",
      "Requirement already satisfied: networkx in /opt/homebrew/anaconda3/lib/python3.11/site-packages (from torch>=1.8.0->ultralytics) (3.1)\n",
      "Requirement already satisfied: jinja2 in /opt/homebrew/anaconda3/lib/python3.11/site-packages (from torch>=1.8.0->ultralytics) (3.1.3)\n",
      "Requirement already satisfied: fsspec in /opt/homebrew/anaconda3/lib/python3.11/site-packages (from torch>=1.8.0->ultralytics) (2023.10.0)\n",
      "Requirement already satisfied: six>=1.5 in /opt/homebrew/anaconda3/lib/python3.11/site-packages (from python-dateutil>=2.7->matplotlib>=3.3.0->ultralytics) (1.16.0)\n",
      "Requirement already satisfied: MarkupSafe>=2.0 in /opt/homebrew/anaconda3/lib/python3.11/site-packages (from jinja2->torch>=1.8.0->ultralytics) (2.1.3)\n",
      "Requirement already satisfied: mpmath>=0.19 in /opt/homebrew/anaconda3/lib/python3.11/site-packages (from sympy->torch>=1.8.0->ultralytics) (1.3.0)\n",
      "Note: you may need to restart the kernel to use updated packages.\n"
     ]
    }
   ],
   "source": [
    "pip install ultralytics\n"
   ]
  },
  {
   "cell_type": "code",
   "execution_count": 11,
   "metadata": {},
   "outputs": [],
   "source": [
    "from ultralytics import YOLO\n",
    "\n",
    "# Load the YOLOv8 model\n",
    "model = YOLO('yolov8n.pt')  # Make sure you have yolov8.pt in your current directory or specify the correct path\n"
   ]
  },
  {
   "cell_type": "code",
   "execution_count": 1,
   "metadata": {},
   "outputs": [
    {
     "name": "stdout",
     "output_type": "stream",
     "text": [
      "weights_path exists: True, size: 248007048 bytes\n",
      "cfg_path exists: True, size: 8342 bytes\n",
      "coco_names_path exists: True, size: 624 bytes\n",
      "Loaded 80 class names\n",
      "[youtube] Extracting URL: https://www.youtube.com/live/PQQ8EPRFLzo?si=vNT8GhTT89859XA8\n",
      "[youtube] PQQ8EPRFLzo: Downloading webpage\n",
      "[youtube] PQQ8EPRFLzo: Downloading ios player API JSON\n",
      "[youtube] PQQ8EPRFLzo: Downloading web creator player API JSON\n",
      "[youtube] PQQ8EPRFLzo: Downloading m3u8 information\n",
      "[youtube] PQQ8EPRFLzo: Downloading m3u8 information\n",
      "Successfully retrieved stream URL: https://manifest.googlevideo.com/api/manifest/hls_...\n",
      "[2024-10-01 10:43:04] Head Count: 67\n",
      "[2024-10-01 10:43:05] Head Count: 67\n",
      "[2024-10-01 10:43:05] Head Count: 69\n",
      "[2024-10-01 10:43:06] Head Count: 66\n"
     ]
    },
    {
     "name": "stderr",
     "output_type": "stream",
     "text": [
      "2024-10-01 10:43:06.343 python[20962:448280] +[IMKClient subclass]: chose IMKClient_Legacy\n",
      "2024-10-01 10:43:06.343 python[20962:448280] +[IMKInputSession subclass]: chose IMKInputSession_Legacy\n"
     ]
    },
    {
     "name": "stdout",
     "output_type": "stream",
     "text": [
      "[2024-10-01 10:43:06] Head Count: 67\n",
      "[2024-10-01 10:43:07] Head Count: 64\n",
      "[2024-10-01 10:43:07] Head Count: 65\n",
      "[2024-10-01 10:43:08] Head Count: 65\n",
      "[2024-10-01 10:43:08] Head Count: 62\n",
      "[2024-10-01 10:43:09] Head Count: 63\n",
      "[2024-10-01 10:43:10] Head Count: 64\n",
      "[2024-10-01 10:43:10] Head Count: 58\n",
      "[2024-10-01 10:43:11] Head Count: 57\n",
      "[2024-10-01 10:43:11] Head Count: 59\n",
      "[2024-10-01 10:43:12] Head Count: 61\n",
      "[2024-10-01 10:43:12] Head Count: 61\n",
      "[2024-10-01 10:43:13] Head Count: 69\n",
      "[2024-10-01 10:43:13] Head Count: 67\n",
      "[2024-10-01 10:43:14] Head Count: 68\n",
      "[2024-10-01 10:43:14] Head Count: 63\n",
      "[2024-10-01 10:43:15] Head Count: 59\n",
      "[2024-10-01 10:43:15] Head Count: 59\n",
      "[2024-10-01 10:43:16] Head Count: 71\n",
      "[2024-10-01 10:43:16] Head Count: 69\n",
      "[2024-10-01 10:43:17] Head Count: 68\n",
      "[2024-10-01 10:43:17] Head Count: 64\n",
      "[2024-10-01 10:43:18] Head Count: 65\n",
      "[2024-10-01 10:43:18] Head Count: 64\n",
      "[2024-10-01 10:43:18] Head Count: 53\n",
      "[2024-10-01 10:43:19] Head Count: 57\n",
      "[2024-10-01 10:43:19] Head Count: 56\n",
      "[2024-10-01 10:43:20] Head Count: 58\n",
      "[2024-10-01 10:43:20] Head Count: 59\n",
      "[2024-10-01 10:43:21] Head Count: 60\n",
      "[2024-10-01 10:43:21] Head Count: 60\n",
      "[2024-10-01 10:43:22] Head Count: 56\n",
      "[2024-10-01 10:43:23] Head Count: 56\n",
      "[2024-10-01 10:43:23] Head Count: 54\n",
      "[2024-10-01 10:43:24] Head Count: 59\n",
      "[2024-10-01 10:43:24] Head Count: 59\n",
      "[2024-10-01 10:43:25] Head Count: 60\n",
      "[2024-10-01 10:43:25] Head Count: 56\n",
      "[2024-10-01 10:43:26] Head Count: 55\n",
      "[2024-10-01 10:43:27] Head Count: 55\n",
      "[2024-10-01 10:43:27] Head Count: 54\n",
      "[2024-10-01 10:43:28] Head Count: 55\n",
      "[2024-10-01 10:43:28] Head Count: 57\n",
      "[2024-10-01 10:43:29] Head Count: 56\n",
      "[2024-10-01 10:43:29] Head Count: 56\n",
      "[2024-10-01 10:43:30] Head Count: 57\n",
      "[2024-10-01 10:43:30] Head Count: 57\n",
      "[2024-10-01 10:43:31] Head Count: 56\n",
      "[2024-10-01 10:43:31] Head Count: 60\n",
      "[2024-10-01 10:43:32] Head Count: 53\n",
      "[2024-10-01 10:43:32] Head Count: 55\n",
      "[2024-10-01 10:43:33] Head Count: 53\n",
      "[2024-10-01 10:43:33] Head Count: 59\n",
      "[2024-10-01 10:43:34] Head Count: 57\n",
      "[2024-10-01 10:43:34] Head Count: 56\n",
      "[2024-10-01 10:43:35] Head Count: 60\n",
      "[2024-10-01 10:43:35] Head Count: 60\n",
      "[2024-10-01 10:43:36] Head Count: 58\n",
      "[2024-10-01 10:43:36] Head Count: 54\n",
      "[2024-10-01 10:43:37] Head Count: 55\n",
      "[2024-10-01 10:43:37] Head Count: 63\n",
      "[2024-10-01 10:43:38] Head Count: 55\n",
      "[2024-10-01 10:43:38] Head Count: 54\n",
      "[2024-10-01 10:43:39] Head Count: 56\n",
      "[2024-10-01 10:43:39] Head Count: 58\n",
      "[2024-10-01 10:43:40] Head Count: 58\n",
      "[2024-10-01 10:43:40] Head Count: 53\n",
      "[2024-10-01 10:43:41] Head Count: 54\n",
      "[2024-10-01 10:43:41] Head Count: 54\n",
      "[2024-10-01 10:43:42] Head Count: 61\n",
      "[2024-10-01 10:43:42] Head Count: 65\n",
      "[2024-10-01 10:43:43] Head Count: 64\n",
      "[2024-10-01 10:43:44] Head Count: 60\n",
      "[2024-10-01 10:43:44] Head Count: 64\n",
      "[2024-10-01 10:43:45] Head Count: 64\n",
      "[2024-10-01 10:43:45] Head Count: 58\n"
     ]
    },
    {
     "ename": "KeyboardInterrupt",
     "evalue": "",
     "output_type": "error",
     "traceback": [
      "\u001b[0;31m---------------------------------------------------------------------------\u001b[0m",
      "\u001b[0;31mKeyboardInterrupt\u001b[0m                         Traceback (most recent call last)",
      "Cell \u001b[0;32mIn[1], line 148\u001b[0m\n\u001b[1;32m    146\u001b[0m \u001b[38;5;28;01mif\u001b[39;00m \u001b[38;5;18m__name__\u001b[39m \u001b[38;5;241m==\u001b[39m \u001b[38;5;124m\"\u001b[39m\u001b[38;5;124m__main__\u001b[39m\u001b[38;5;124m\"\u001b[39m:\n\u001b[1;32m    147\u001b[0m     live_video_url \u001b[38;5;241m=\u001b[39m \u001b[38;5;124m\"\u001b[39m\u001b[38;5;124mhttps://www.youtube.com/live/PQQ8EPRFLzo?si=vNT8GhTT89859XA8\u001b[39m\u001b[38;5;124m\"\u001b[39m\n\u001b[0;32m--> 148\u001b[0m     process_live_video(live_video_url)\n",
      "Cell \u001b[0;32mIn[1], line 129\u001b[0m, in \u001b[0;36mprocess_live_video\u001b[0;34m(video_url)\u001b[0m\n\u001b[1;32m    127\u001b[0m \u001b[38;5;66;03m# Upper body detection\u001b[39;00m\n\u001b[1;32m    128\u001b[0m upper_body_cascade \u001b[38;5;241m=\u001b[39m cv2\u001b[38;5;241m.\u001b[39mCascadeClassifier(cv2\u001b[38;5;241m.\u001b[39mdata\u001b[38;5;241m.\u001b[39mhaarcascades \u001b[38;5;241m+\u001b[39m \u001b[38;5;124m'\u001b[39m\u001b[38;5;124mhaarcascade_upperbody.xml\u001b[39m\u001b[38;5;124m'\u001b[39m)\n\u001b[0;32m--> 129\u001b[0m upper_bodies \u001b[38;5;241m=\u001b[39m upper_body_cascade\u001b[38;5;241m.\u001b[39mdetectMultiScale(gray, scaleFactor\u001b[38;5;241m=\u001b[39m\u001b[38;5;241m1.05\u001b[39m, minNeighbors\u001b[38;5;241m=\u001b[39m\u001b[38;5;241m3\u001b[39m, minSize\u001b[38;5;241m=\u001b[39m(\u001b[38;5;241m30\u001b[39m, \u001b[38;5;241m30\u001b[39m))\n\u001b[1;32m    131\u001b[0m \u001b[38;5;28;01mfor\u001b[39;00m (x, y, w, h) \u001b[38;5;129;01min\u001b[39;00m upper_bodies:\n\u001b[1;32m    132\u001b[0m     cv2\u001b[38;5;241m.\u001b[39mrectangle(resized_frame, (x, y), (x\u001b[38;5;241m+\u001b[39mw, y\u001b[38;5;241m+\u001b[39mh), (\u001b[38;5;241m0\u001b[39m, \u001b[38;5;241m0\u001b[39m, \u001b[38;5;241m255\u001b[39m), \u001b[38;5;241m2\u001b[39m)\n",
      "\u001b[0;31mKeyboardInterrupt\u001b[0m: "
     ]
    },
    {
     "ename": "",
     "evalue": "",
     "output_type": "error",
     "traceback": [
      "\u001b[1;31mThe Kernel crashed while executing code in the current cell or a previous cell. \n",
      "\u001b[1;31mPlease review the code in the cell(s) to identify a possible cause of the failure. \n",
      "\u001b[1;31mClick <a href='https://aka.ms/vscodeJupyterKernelCrash'>here</a> for more info. \n",
      "\u001b[1;31mView Jupyter <a href='command:jupyter.viewOutput'>log</a> for further details."
     ]
    }
   ],
   "source": [
    "import cv2\n",
    "import numpy as np\n",
    "from datetime import datetime\n",
    "import yt_dlp\n",
    "import os\n",
    "\n",
    "def load_yolo_model(weights_path, cfg_path):\n",
    "    try:\n",
    "        net = cv2.dnn.readNet(weights_path, cfg_path)\n",
    "        layer_names = net.getLayerNames()\n",
    "        output_layers = [layer_names[i - 1] for i in net.getUnconnectedOutLayers()]\n",
    "        return net, output_layers\n",
    "    except Exception as e:\n",
    "        print(f\"Error loading YOLO model: {e}\")\n",
    "        return None, None\n",
    "\n",
    "def get_youtube_stream(url):\n",
    "    ydl_opts = {'format': 'best'}\n",
    "    with yt_dlp.YoutubeDL(ydl_opts) as ydl:\n",
    "        info = ydl.extract_info(url, download=False)\n",
    "        return info['url']\n",
    "\n",
    "def log_output(message):\n",
    "    with open(\"outputv8.txt\", \"a\") as f:\n",
    "        f.write(f\"{message}\\n\")\n",
    "    print(message)\n",
    "\n",
    "def process_live_video(video_url):\n",
    "    base_path = \"/Users/chiragn/Desktop/TIMES SQUARE\"\n",
    "    weights_path = os.path.join(base_path, \"yolov3.weights\")\n",
    "    cfg_path = os.path.join(base_path, \"yolov3.cfg\")\n",
    "    coco_names_path = os.path.join(base_path, \"coco.names\")\n",
    "\n",
    "    log_output(f\"weights_path exists: {os.path.exists(weights_path)}, size: {os.path.getsize(weights_path) if os.path.exists(weights_path) else 'N/A'} bytes\")\n",
    "    log_output(f\"cfg_path exists: {os.path.exists(cfg_path)}, size: {os.path.getsize(cfg_path) if os.path.exists(cfg_path) else 'N/A'} bytes\")\n",
    "    log_output(f\"coco_names_path exists: {os.path.exists(coco_names_path)}, size: {os.path.getsize(coco_names_path) if os.path.exists(coco_names_path) else 'N/A'} bytes\")\n",
    "\n",
    "    net, output_layers = load_yolo_model(weights_path, cfg_path)\n",
    "\n",
    "    if net is None:\n",
    "        log_output(\"Failed to load YOLO model. Exiting.\")\n",
    "        return\n",
    "\n",
    "    try:\n",
    "        with open(coco_names_path, \"r\") as f:\n",
    "            classes = [line.strip() for line in f.readlines()]\n",
    "        log_output(f\"Loaded {len(classes)} class names\")\n",
    "    except Exception as e:\n",
    "        log_output(f\"Error loading class names: {e}\")\n",
    "        return\n",
    "\n",
    "    try:\n",
    "        stream_url = get_youtube_stream(video_url)\n",
    "        log_output(f\"Successfully retrieved stream URL: {stream_url[:50]}...\")\n",
    "    except Exception as e:\n",
    "        log_output(f\"Error getting stream URL: {e}\")\n",
    "        return\n",
    "\n",
    "    cap = cv2.VideoCapture(stream_url)\n",
    "\n",
    "    if not cap.isOpened():\n",
    "        log_output(\"Error opening video stream or file\")\n",
    "        return\n",
    "\n",
    "    frame_count = 0\n",
    "    while True:\n",
    "        ret, frame = cap.read()\n",
    "        if not ret:\n",
    "            log_output(\"Failed to capture frame. Exiting.\")\n",
    "            break\n",
    "\n",
    "        frame_count += 1\n",
    "        if frame_count % 1 == 0:  # Process every 10th frame for more frequent updates\n",
    "            # Resize frame for faster processing\n",
    "            height, width = frame.shape[:2]\n",
    "            new_height = 832  # Increased resolution\n",
    "            new_width = int(width * (new_height / height))\n",
    "            resized_frame = cv2.resize(frame, (new_width, new_height))\n",
    "\n",
    "            blob = cv2.dnn.blobFromImage(resized_frame, 1/255.0, (416, 416), swapRB=True, crop=False)\n",
    "            net.setInput(blob)\n",
    "            outs = net.forward(output_layers)\n",
    "\n",
    "            class_ids = []\n",
    "            confidences = []\n",
    "            boxes = []\n",
    "\n",
    "            for out in outs:\n",
    "                for detection in out:\n",
    "                    scores = detection[5:]\n",
    "                    class_id = np.argmax(scores)\n",
    "                    confidence = scores[class_id]\n",
    "                    if confidence > 0.1 and classes[class_id] == 'person':  # Lower confidence threshold\n",
    "                        center_x = int(detection[0] * new_width)\n",
    "                        center_y = int(detection[1] * new_height)\n",
    "                        w = int(detection[2] * new_width)\n",
    "                        h = int(detection[3] * new_height)\n",
    "\n",
    "                        x = int(center_x - w / 2)\n",
    "                        y = int(center_y - h / 2)\n",
    "\n",
    "                        boxes.append([x, y, w, h])\n",
    "                        confidences.append(float(confidence))\n",
    "                        class_ids.append(class_id)\n",
    "\n",
    "            indexes = cv2.dnn.NMSBoxes(boxes, confidences, 0.1, 0.3)  # Adjusted NMS parameters\n",
    "\n",
    "            head_count = len(indexes)\n",
    "\n",
    "            for i in range(len(boxes)):\n",
    "                if i in indexes:\n",
    "                    x, y, w, h = boxes[i]\n",
    "                    label = str(classes[class_ids[i]])\n",
    "                    color = (0, 255, 0)\n",
    "                    cv2.rectangle(resized_frame, (x, y), (x + w, y + h), color, 2)\n",
    "                    cv2.putText(resized_frame, f\"{label} {confidences[i]:.2f}\", (x, y + 30), cv2.FONT_HERSHEY_SIMPLEX, 0.5, color, 2)\n",
    "\n",
    "            # Additional head detection using Haar Cascade\n",
    "            gray = cv2.cvtColor(resized_frame, cv2.COLOR_BGR2GRAY)\n",
    "            haar_cascade = cv2.CascadeClassifier(cv2.data.haarcascades + 'haarcascade_frontalface_default.xml')\n",
    "            faces = haar_cascade.detectMultiScale(gray, scaleFactor=1.05, minNeighbors=3, minSize=(20, 20))\n",
    "            \n",
    "            for (x, y, w, h) in faces:\n",
    "                cv2.rectangle(resized_frame, (x, y), (x+w, y+h), (255, 0, 0), 2)\n",
    "                head_count += 1\n",
    "\n",
    "            # Upper body detection\n",
    "            upper_body_cascade = cv2.CascadeClassifier(cv2.data.haarcascades + 'haarcascade_upperbody.xml')\n",
    "            upper_bodies = upper_body_cascade.detectMultiScale(gray, scaleFactor=1.05, minNeighbors=3, minSize=(30, 30))\n",
    "            \n",
    "            for (x, y, w, h) in upper_bodies:\n",
    "                cv2.rectangle(resized_frame, (x, y), (x+w, y+h), (0, 0, 255), 2)\n",
    "                head_count += 1\n",
    "\n",
    "            current_time = datetime.now().strftime(\"%Y-%m-%d %H:%M:%S\")\n",
    "            log_output(f\"[{current_time}] Head Count: {head_count}\")\n",
    "\n",
    "            cv2.putText(resized_frame, f\"Head Count: {head_count}\", (10, 30), cv2.FONT_HERSHEY_SIMPLEX, 1, (0, 0, 255), 2)\n",
    "            cv2.imshow(\"Live Video\", resized_frame)\n",
    "            if cv2.waitKey(1) & 0xFF == ord('q'):\n",
    "                break\n",
    "\n",
    "    cap.release()\n",
    "    cv2.destroyAllWindows()\n",
    "\n",
    "if __name__ == \"__main__\":\n",
    "    live_video_url = \"https://www.youtube.com/live/PQQ8EPRFLzo?si=vNT8GhTT89859XA8\"\n",
    "    process_live_video(live_video_url)"
   ]
  },
  {
   "cell_type": "code",
   "execution_count": null,
   "metadata": {},
   "outputs": [],
   "source": []
  }
 ],
 "metadata": {
  "kernelspec": {
   "display_name": "base",
   "language": "python",
   "name": "python3"
  },
  "language_info": {
   "codemirror_mode": {
    "name": "ipython",
    "version": 3
   },
   "file_extension": ".py",
   "mimetype": "text/x-python",
   "name": "python",
   "nbconvert_exporter": "python",
   "pygments_lexer": "ipython3",
   "version": "3.11.7"
  }
 },
 "nbformat": 4,
 "nbformat_minor": 2
}
